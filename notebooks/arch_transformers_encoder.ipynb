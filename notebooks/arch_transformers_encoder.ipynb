{
  "nbformat": 4,
  "nbformat_minor": 0,
  "metadata": {
    "colab": {
      "provenance": [],
      "authorship_tag": "ABX9TyOqAU/JLyGoeyUqcQAOEUwx",
      "include_colab_link": true
    },
    "kernelspec": {
      "name": "python3",
      "display_name": "Python 3"
    },
    "language_info": {
      "name": "python"
    },
    "widgets": {
      "application/vnd.jupyter.widget-state+json": {
        "97e60a93c7924f989bddc5b9e5606c26": {
          "model_module": "@jupyter-widgets/controls",
          "model_name": "HBoxModel",
          "model_module_version": "1.5.0",
          "state": {
            "_dom_classes": [],
            "_model_module": "@jupyter-widgets/controls",
            "_model_module_version": "1.5.0",
            "_model_name": "HBoxModel",
            "_view_count": null,
            "_view_module": "@jupyter-widgets/controls",
            "_view_module_version": "1.5.0",
            "_view_name": "HBoxView",
            "box_style": "",
            "children": [
              "IPY_MODEL_c94649b4abfd4155967707dc3dc72435",
              "IPY_MODEL_9bbcdeaae4bf48c79a3bb2868d7bb830",
              "IPY_MODEL_087d0056b2cc48ef89d5317d2e8cefc2"
            ],
            "layout": "IPY_MODEL_a225437720d84b4989de9207c5ee9709"
          }
        },
        "c94649b4abfd4155967707dc3dc72435": {
          "model_module": "@jupyter-widgets/controls",
          "model_name": "HTMLModel",
          "model_module_version": "1.5.0",
          "state": {
            "_dom_classes": [],
            "_model_module": "@jupyter-widgets/controls",
            "_model_module_version": "1.5.0",
            "_model_name": "HTMLModel",
            "_view_count": null,
            "_view_module": "@jupyter-widgets/controls",
            "_view_module_version": "1.5.0",
            "_view_name": "HTMLView",
            "description": "",
            "description_tooltip": null,
            "layout": "IPY_MODEL_ec8ce39e0138424592892d0f1e9222d7",
            "placeholder": "​",
            "style": "IPY_MODEL_5342c97b550e46df98f5abb52ca11440",
            "value": "tokenizer_config.json: 100%"
          }
        },
        "9bbcdeaae4bf48c79a3bb2868d7bb830": {
          "model_module": "@jupyter-widgets/controls",
          "model_name": "FloatProgressModel",
          "model_module_version": "1.5.0",
          "state": {
            "_dom_classes": [],
            "_model_module": "@jupyter-widgets/controls",
            "_model_module_version": "1.5.0",
            "_model_name": "FloatProgressModel",
            "_view_count": null,
            "_view_module": "@jupyter-widgets/controls",
            "_view_module_version": "1.5.0",
            "_view_name": "ProgressView",
            "bar_style": "success",
            "description": "",
            "description_tooltip": null,
            "layout": "IPY_MODEL_04bac5218ae649178ff0a80c3a582146",
            "max": 28,
            "min": 0,
            "orientation": "horizontal",
            "style": "IPY_MODEL_f19f8cb2804c4afe86a8a8e803818505",
            "value": 28
          }
        },
        "087d0056b2cc48ef89d5317d2e8cefc2": {
          "model_module": "@jupyter-widgets/controls",
          "model_name": "HTMLModel",
          "model_module_version": "1.5.0",
          "state": {
            "_dom_classes": [],
            "_model_module": "@jupyter-widgets/controls",
            "_model_module_version": "1.5.0",
            "_model_name": "HTMLModel",
            "_view_count": null,
            "_view_module": "@jupyter-widgets/controls",
            "_view_module_version": "1.5.0",
            "_view_name": "HTMLView",
            "description": "",
            "description_tooltip": null,
            "layout": "IPY_MODEL_1ac7438bd9ff4e608bac1bc645fc0d57",
            "placeholder": "​",
            "style": "IPY_MODEL_ef1c360ff69e4bb39b130e63f1dc5ca4",
            "value": " 28.0/28.0 [00:00&lt;00:00, 568B/s]"
          }
        },
        "a225437720d84b4989de9207c5ee9709": {
          "model_module": "@jupyter-widgets/base",
          "model_name": "LayoutModel",
          "model_module_version": "1.2.0",
          "state": {
            "_model_module": "@jupyter-widgets/base",
            "_model_module_version": "1.2.0",
            "_model_name": "LayoutModel",
            "_view_count": null,
            "_view_module": "@jupyter-widgets/base",
            "_view_module_version": "1.2.0",
            "_view_name": "LayoutView",
            "align_content": null,
            "align_items": null,
            "align_self": null,
            "border": null,
            "bottom": null,
            "display": null,
            "flex": null,
            "flex_flow": null,
            "grid_area": null,
            "grid_auto_columns": null,
            "grid_auto_flow": null,
            "grid_auto_rows": null,
            "grid_column": null,
            "grid_gap": null,
            "grid_row": null,
            "grid_template_areas": null,
            "grid_template_columns": null,
            "grid_template_rows": null,
            "height": null,
            "justify_content": null,
            "justify_items": null,
            "left": null,
            "margin": null,
            "max_height": null,
            "max_width": null,
            "min_height": null,
            "min_width": null,
            "object_fit": null,
            "object_position": null,
            "order": null,
            "overflow": null,
            "overflow_x": null,
            "overflow_y": null,
            "padding": null,
            "right": null,
            "top": null,
            "visibility": null,
            "width": null
          }
        },
        "ec8ce39e0138424592892d0f1e9222d7": {
          "model_module": "@jupyter-widgets/base",
          "model_name": "LayoutModel",
          "model_module_version": "1.2.0",
          "state": {
            "_model_module": "@jupyter-widgets/base",
            "_model_module_version": "1.2.0",
            "_model_name": "LayoutModel",
            "_view_count": null,
            "_view_module": "@jupyter-widgets/base",
            "_view_module_version": "1.2.0",
            "_view_name": "LayoutView",
            "align_content": null,
            "align_items": null,
            "align_self": null,
            "border": null,
            "bottom": null,
            "display": null,
            "flex": null,
            "flex_flow": null,
            "grid_area": null,
            "grid_auto_columns": null,
            "grid_auto_flow": null,
            "grid_auto_rows": null,
            "grid_column": null,
            "grid_gap": null,
            "grid_row": null,
            "grid_template_areas": null,
            "grid_template_columns": null,
            "grid_template_rows": null,
            "height": null,
            "justify_content": null,
            "justify_items": null,
            "left": null,
            "margin": null,
            "max_height": null,
            "max_width": null,
            "min_height": null,
            "min_width": null,
            "object_fit": null,
            "object_position": null,
            "order": null,
            "overflow": null,
            "overflow_x": null,
            "overflow_y": null,
            "padding": null,
            "right": null,
            "top": null,
            "visibility": null,
            "width": null
          }
        },
        "5342c97b550e46df98f5abb52ca11440": {
          "model_module": "@jupyter-widgets/controls",
          "model_name": "DescriptionStyleModel",
          "model_module_version": "1.5.0",
          "state": {
            "_model_module": "@jupyter-widgets/controls",
            "_model_module_version": "1.5.0",
            "_model_name": "DescriptionStyleModel",
            "_view_count": null,
            "_view_module": "@jupyter-widgets/base",
            "_view_module_version": "1.2.0",
            "_view_name": "StyleView",
            "description_width": ""
          }
        },
        "04bac5218ae649178ff0a80c3a582146": {
          "model_module": "@jupyter-widgets/base",
          "model_name": "LayoutModel",
          "model_module_version": "1.2.0",
          "state": {
            "_model_module": "@jupyter-widgets/base",
            "_model_module_version": "1.2.0",
            "_model_name": "LayoutModel",
            "_view_count": null,
            "_view_module": "@jupyter-widgets/base",
            "_view_module_version": "1.2.0",
            "_view_name": "LayoutView",
            "align_content": null,
            "align_items": null,
            "align_self": null,
            "border": null,
            "bottom": null,
            "display": null,
            "flex": null,
            "flex_flow": null,
            "grid_area": null,
            "grid_auto_columns": null,
            "grid_auto_flow": null,
            "grid_auto_rows": null,
            "grid_column": null,
            "grid_gap": null,
            "grid_row": null,
            "grid_template_areas": null,
            "grid_template_columns": null,
            "grid_template_rows": null,
            "height": null,
            "justify_content": null,
            "justify_items": null,
            "left": null,
            "margin": null,
            "max_height": null,
            "max_width": null,
            "min_height": null,
            "min_width": null,
            "object_fit": null,
            "object_position": null,
            "order": null,
            "overflow": null,
            "overflow_x": null,
            "overflow_y": null,
            "padding": null,
            "right": null,
            "top": null,
            "visibility": null,
            "width": null
          }
        },
        "f19f8cb2804c4afe86a8a8e803818505": {
          "model_module": "@jupyter-widgets/controls",
          "model_name": "ProgressStyleModel",
          "model_module_version": "1.5.0",
          "state": {
            "_model_module": "@jupyter-widgets/controls",
            "_model_module_version": "1.5.0",
            "_model_name": "ProgressStyleModel",
            "_view_count": null,
            "_view_module": "@jupyter-widgets/base",
            "_view_module_version": "1.2.0",
            "_view_name": "StyleView",
            "bar_color": null,
            "description_width": ""
          }
        },
        "1ac7438bd9ff4e608bac1bc645fc0d57": {
          "model_module": "@jupyter-widgets/base",
          "model_name": "LayoutModel",
          "model_module_version": "1.2.0",
          "state": {
            "_model_module": "@jupyter-widgets/base",
            "_model_module_version": "1.2.0",
            "_model_name": "LayoutModel",
            "_view_count": null,
            "_view_module": "@jupyter-widgets/base",
            "_view_module_version": "1.2.0",
            "_view_name": "LayoutView",
            "align_content": null,
            "align_items": null,
            "align_self": null,
            "border": null,
            "bottom": null,
            "display": null,
            "flex": null,
            "flex_flow": null,
            "grid_area": null,
            "grid_auto_columns": null,
            "grid_auto_flow": null,
            "grid_auto_rows": null,
            "grid_column": null,
            "grid_gap": null,
            "grid_row": null,
            "grid_template_areas": null,
            "grid_template_columns": null,
            "grid_template_rows": null,
            "height": null,
            "justify_content": null,
            "justify_items": null,
            "left": null,
            "margin": null,
            "max_height": null,
            "max_width": null,
            "min_height": null,
            "min_width": null,
            "object_fit": null,
            "object_position": null,
            "order": null,
            "overflow": null,
            "overflow_x": null,
            "overflow_y": null,
            "padding": null,
            "right": null,
            "top": null,
            "visibility": null,
            "width": null
          }
        },
        "ef1c360ff69e4bb39b130e63f1dc5ca4": {
          "model_module": "@jupyter-widgets/controls",
          "model_name": "DescriptionStyleModel",
          "model_module_version": "1.5.0",
          "state": {
            "_model_module": "@jupyter-widgets/controls",
            "_model_module_version": "1.5.0",
            "_model_name": "DescriptionStyleModel",
            "_view_count": null,
            "_view_module": "@jupyter-widgets/base",
            "_view_module_version": "1.2.0",
            "_view_name": "StyleView",
            "description_width": ""
          }
        },
        "fbb786b23b3f416a88d7f09c50578716": {
          "model_module": "@jupyter-widgets/controls",
          "model_name": "HBoxModel",
          "model_module_version": "1.5.0",
          "state": {
            "_dom_classes": [],
            "_model_module": "@jupyter-widgets/controls",
            "_model_module_version": "1.5.0",
            "_model_name": "HBoxModel",
            "_view_count": null,
            "_view_module": "@jupyter-widgets/controls",
            "_view_module_version": "1.5.0",
            "_view_name": "HBoxView",
            "box_style": "",
            "children": [
              "IPY_MODEL_bbb6d6679bf54674acab0c77cc59ddbd",
              "IPY_MODEL_9bf9afa81fd841b3abcda8c4297b8101",
              "IPY_MODEL_6963db5049f4402eafcb3c4dba8e7b75"
            ],
            "layout": "IPY_MODEL_8f18dc7e904f4e4d9b5b654df08c678a"
          }
        },
        "bbb6d6679bf54674acab0c77cc59ddbd": {
          "model_module": "@jupyter-widgets/controls",
          "model_name": "HTMLModel",
          "model_module_version": "1.5.0",
          "state": {
            "_dom_classes": [],
            "_model_module": "@jupyter-widgets/controls",
            "_model_module_version": "1.5.0",
            "_model_name": "HTMLModel",
            "_view_count": null,
            "_view_module": "@jupyter-widgets/controls",
            "_view_module_version": "1.5.0",
            "_view_name": "HTMLView",
            "description": "",
            "description_tooltip": null,
            "layout": "IPY_MODEL_db11029426ef4d0d9949656ad011d72a",
            "placeholder": "​",
            "style": "IPY_MODEL_b6c2bc7222414a7facb72377a70d6b25",
            "value": "config.json: 100%"
          }
        },
        "9bf9afa81fd841b3abcda8c4297b8101": {
          "model_module": "@jupyter-widgets/controls",
          "model_name": "FloatProgressModel",
          "model_module_version": "1.5.0",
          "state": {
            "_dom_classes": [],
            "_model_module": "@jupyter-widgets/controls",
            "_model_module_version": "1.5.0",
            "_model_name": "FloatProgressModel",
            "_view_count": null,
            "_view_module": "@jupyter-widgets/controls",
            "_view_module_version": "1.5.0",
            "_view_name": "ProgressView",
            "bar_style": "success",
            "description": "",
            "description_tooltip": null,
            "layout": "IPY_MODEL_935af8e9f2354bc9b0639b95a5241038",
            "max": 570,
            "min": 0,
            "orientation": "horizontal",
            "style": "IPY_MODEL_6eba088d810b41888483a9f1ef403359",
            "value": 570
          }
        },
        "6963db5049f4402eafcb3c4dba8e7b75": {
          "model_module": "@jupyter-widgets/controls",
          "model_name": "HTMLModel",
          "model_module_version": "1.5.0",
          "state": {
            "_dom_classes": [],
            "_model_module": "@jupyter-widgets/controls",
            "_model_module_version": "1.5.0",
            "_model_name": "HTMLModel",
            "_view_count": null,
            "_view_module": "@jupyter-widgets/controls",
            "_view_module_version": "1.5.0",
            "_view_name": "HTMLView",
            "description": "",
            "description_tooltip": null,
            "layout": "IPY_MODEL_26b2097c8d4e48fda80a913bfe4ed5df",
            "placeholder": "​",
            "style": "IPY_MODEL_0797fb9baddb4e4ebfe1720d884e762c",
            "value": " 570/570 [00:00&lt;00:00, 4.42kB/s]"
          }
        },
        "8f18dc7e904f4e4d9b5b654df08c678a": {
          "model_module": "@jupyter-widgets/base",
          "model_name": "LayoutModel",
          "model_module_version": "1.2.0",
          "state": {
            "_model_module": "@jupyter-widgets/base",
            "_model_module_version": "1.2.0",
            "_model_name": "LayoutModel",
            "_view_count": null,
            "_view_module": "@jupyter-widgets/base",
            "_view_module_version": "1.2.0",
            "_view_name": "LayoutView",
            "align_content": null,
            "align_items": null,
            "align_self": null,
            "border": null,
            "bottom": null,
            "display": null,
            "flex": null,
            "flex_flow": null,
            "grid_area": null,
            "grid_auto_columns": null,
            "grid_auto_flow": null,
            "grid_auto_rows": null,
            "grid_column": null,
            "grid_gap": null,
            "grid_row": null,
            "grid_template_areas": null,
            "grid_template_columns": null,
            "grid_template_rows": null,
            "height": null,
            "justify_content": null,
            "justify_items": null,
            "left": null,
            "margin": null,
            "max_height": null,
            "max_width": null,
            "min_height": null,
            "min_width": null,
            "object_fit": null,
            "object_position": null,
            "order": null,
            "overflow": null,
            "overflow_x": null,
            "overflow_y": null,
            "padding": null,
            "right": null,
            "top": null,
            "visibility": null,
            "width": null
          }
        },
        "db11029426ef4d0d9949656ad011d72a": {
          "model_module": "@jupyter-widgets/base",
          "model_name": "LayoutModel",
          "model_module_version": "1.2.0",
          "state": {
            "_model_module": "@jupyter-widgets/base",
            "_model_module_version": "1.2.0",
            "_model_name": "LayoutModel",
            "_view_count": null,
            "_view_module": "@jupyter-widgets/base",
            "_view_module_version": "1.2.0",
            "_view_name": "LayoutView",
            "align_content": null,
            "align_items": null,
            "align_self": null,
            "border": null,
            "bottom": null,
            "display": null,
            "flex": null,
            "flex_flow": null,
            "grid_area": null,
            "grid_auto_columns": null,
            "grid_auto_flow": null,
            "grid_auto_rows": null,
            "grid_column": null,
            "grid_gap": null,
            "grid_row": null,
            "grid_template_areas": null,
            "grid_template_columns": null,
            "grid_template_rows": null,
            "height": null,
            "justify_content": null,
            "justify_items": null,
            "left": null,
            "margin": null,
            "max_height": null,
            "max_width": null,
            "min_height": null,
            "min_width": null,
            "object_fit": null,
            "object_position": null,
            "order": null,
            "overflow": null,
            "overflow_x": null,
            "overflow_y": null,
            "padding": null,
            "right": null,
            "top": null,
            "visibility": null,
            "width": null
          }
        },
        "b6c2bc7222414a7facb72377a70d6b25": {
          "model_module": "@jupyter-widgets/controls",
          "model_name": "DescriptionStyleModel",
          "model_module_version": "1.5.0",
          "state": {
            "_model_module": "@jupyter-widgets/controls",
            "_model_module_version": "1.5.0",
            "_model_name": "DescriptionStyleModel",
            "_view_count": null,
            "_view_module": "@jupyter-widgets/base",
            "_view_module_version": "1.2.0",
            "_view_name": "StyleView",
            "description_width": ""
          }
        },
        "935af8e9f2354bc9b0639b95a5241038": {
          "model_module": "@jupyter-widgets/base",
          "model_name": "LayoutModel",
          "model_module_version": "1.2.0",
          "state": {
            "_model_module": "@jupyter-widgets/base",
            "_model_module_version": "1.2.0",
            "_model_name": "LayoutModel",
            "_view_count": null,
            "_view_module": "@jupyter-widgets/base",
            "_view_module_version": "1.2.0",
            "_view_name": "LayoutView",
            "align_content": null,
            "align_items": null,
            "align_self": null,
            "border": null,
            "bottom": null,
            "display": null,
            "flex": null,
            "flex_flow": null,
            "grid_area": null,
            "grid_auto_columns": null,
            "grid_auto_flow": null,
            "grid_auto_rows": null,
            "grid_column": null,
            "grid_gap": null,
            "grid_row": null,
            "grid_template_areas": null,
            "grid_template_columns": null,
            "grid_template_rows": null,
            "height": null,
            "justify_content": null,
            "justify_items": null,
            "left": null,
            "margin": null,
            "max_height": null,
            "max_width": null,
            "min_height": null,
            "min_width": null,
            "object_fit": null,
            "object_position": null,
            "order": null,
            "overflow": null,
            "overflow_x": null,
            "overflow_y": null,
            "padding": null,
            "right": null,
            "top": null,
            "visibility": null,
            "width": null
          }
        },
        "6eba088d810b41888483a9f1ef403359": {
          "model_module": "@jupyter-widgets/controls",
          "model_name": "ProgressStyleModel",
          "model_module_version": "1.5.0",
          "state": {
            "_model_module": "@jupyter-widgets/controls",
            "_model_module_version": "1.5.0",
            "_model_name": "ProgressStyleModel",
            "_view_count": null,
            "_view_module": "@jupyter-widgets/base",
            "_view_module_version": "1.2.0",
            "_view_name": "StyleView",
            "bar_color": null,
            "description_width": ""
          }
        },
        "26b2097c8d4e48fda80a913bfe4ed5df": {
          "model_module": "@jupyter-widgets/base",
          "model_name": "LayoutModel",
          "model_module_version": "1.2.0",
          "state": {
            "_model_module": "@jupyter-widgets/base",
            "_model_module_version": "1.2.0",
            "_model_name": "LayoutModel",
            "_view_count": null,
            "_view_module": "@jupyter-widgets/base",
            "_view_module_version": "1.2.0",
            "_view_name": "LayoutView",
            "align_content": null,
            "align_items": null,
            "align_self": null,
            "border": null,
            "bottom": null,
            "display": null,
            "flex": null,
            "flex_flow": null,
            "grid_area": null,
            "grid_auto_columns": null,
            "grid_auto_flow": null,
            "grid_auto_rows": null,
            "grid_column": null,
            "grid_gap": null,
            "grid_row": null,
            "grid_template_areas": null,
            "grid_template_columns": null,
            "grid_template_rows": null,
            "height": null,
            "justify_content": null,
            "justify_items": null,
            "left": null,
            "margin": null,
            "max_height": null,
            "max_width": null,
            "min_height": null,
            "min_width": null,
            "object_fit": null,
            "object_position": null,
            "order": null,
            "overflow": null,
            "overflow_x": null,
            "overflow_y": null,
            "padding": null,
            "right": null,
            "top": null,
            "visibility": null,
            "width": null
          }
        },
        "0797fb9baddb4e4ebfe1720d884e762c": {
          "model_module": "@jupyter-widgets/controls",
          "model_name": "DescriptionStyleModel",
          "model_module_version": "1.5.0",
          "state": {
            "_model_module": "@jupyter-widgets/controls",
            "_model_module_version": "1.5.0",
            "_model_name": "DescriptionStyleModel",
            "_view_count": null,
            "_view_module": "@jupyter-widgets/base",
            "_view_module_version": "1.2.0",
            "_view_name": "StyleView",
            "description_width": ""
          }
        },
        "673e6ea3daaa4afba57b410132081885": {
          "model_module": "@jupyter-widgets/controls",
          "model_name": "HBoxModel",
          "model_module_version": "1.5.0",
          "state": {
            "_dom_classes": [],
            "_model_module": "@jupyter-widgets/controls",
            "_model_module_version": "1.5.0",
            "_model_name": "HBoxModel",
            "_view_count": null,
            "_view_module": "@jupyter-widgets/controls",
            "_view_module_version": "1.5.0",
            "_view_name": "HBoxView",
            "box_style": "",
            "children": [
              "IPY_MODEL_8beea1b813bf4be4bf6384b09bcafdbc",
              "IPY_MODEL_e8c2bd27ff274b3aa2f603fbead4f03f",
              "IPY_MODEL_89356d85b4ce420ca3e8b9ef95e3308a"
            ],
            "layout": "IPY_MODEL_30b83d1d320340218c289c624ce46176"
          }
        },
        "8beea1b813bf4be4bf6384b09bcafdbc": {
          "model_module": "@jupyter-widgets/controls",
          "model_name": "HTMLModel",
          "model_module_version": "1.5.0",
          "state": {
            "_dom_classes": [],
            "_model_module": "@jupyter-widgets/controls",
            "_model_module_version": "1.5.0",
            "_model_name": "HTMLModel",
            "_view_count": null,
            "_view_module": "@jupyter-widgets/controls",
            "_view_module_version": "1.5.0",
            "_view_name": "HTMLView",
            "description": "",
            "description_tooltip": null,
            "layout": "IPY_MODEL_02bf768e0612475da3271cb78265d3c2",
            "placeholder": "​",
            "style": "IPY_MODEL_9413752badc04649ae930a5a7618c6c1",
            "value": "vocab.txt: 100%"
          }
        },
        "e8c2bd27ff274b3aa2f603fbead4f03f": {
          "model_module": "@jupyter-widgets/controls",
          "model_name": "FloatProgressModel",
          "model_module_version": "1.5.0",
          "state": {
            "_dom_classes": [],
            "_model_module": "@jupyter-widgets/controls",
            "_model_module_version": "1.5.0",
            "_model_name": "FloatProgressModel",
            "_view_count": null,
            "_view_module": "@jupyter-widgets/controls",
            "_view_module_version": "1.5.0",
            "_view_name": "ProgressView",
            "bar_style": "success",
            "description": "",
            "description_tooltip": null,
            "layout": "IPY_MODEL_9d7c5081c3f54eb2ab0e4b7ac5fe56ac",
            "max": 231508,
            "min": 0,
            "orientation": "horizontal",
            "style": "IPY_MODEL_601c7a493bc64a3b892c5ded85f4853f",
            "value": 231508
          }
        },
        "89356d85b4ce420ca3e8b9ef95e3308a": {
          "model_module": "@jupyter-widgets/controls",
          "model_name": "HTMLModel",
          "model_module_version": "1.5.0",
          "state": {
            "_dom_classes": [],
            "_model_module": "@jupyter-widgets/controls",
            "_model_module_version": "1.5.0",
            "_model_name": "HTMLModel",
            "_view_count": null,
            "_view_module": "@jupyter-widgets/controls",
            "_view_module_version": "1.5.0",
            "_view_name": "HTMLView",
            "description": "",
            "description_tooltip": null,
            "layout": "IPY_MODEL_cada949c8e044b53b7e31c28d7b7d018",
            "placeholder": "​",
            "style": "IPY_MODEL_610d468c660148b3a4dc80934ad3af26",
            "value": " 232k/232k [00:00&lt;00:00, 1.82MB/s]"
          }
        },
        "30b83d1d320340218c289c624ce46176": {
          "model_module": "@jupyter-widgets/base",
          "model_name": "LayoutModel",
          "model_module_version": "1.2.0",
          "state": {
            "_model_module": "@jupyter-widgets/base",
            "_model_module_version": "1.2.0",
            "_model_name": "LayoutModel",
            "_view_count": null,
            "_view_module": "@jupyter-widgets/base",
            "_view_module_version": "1.2.0",
            "_view_name": "LayoutView",
            "align_content": null,
            "align_items": null,
            "align_self": null,
            "border": null,
            "bottom": null,
            "display": null,
            "flex": null,
            "flex_flow": null,
            "grid_area": null,
            "grid_auto_columns": null,
            "grid_auto_flow": null,
            "grid_auto_rows": null,
            "grid_column": null,
            "grid_gap": null,
            "grid_row": null,
            "grid_template_areas": null,
            "grid_template_columns": null,
            "grid_template_rows": null,
            "height": null,
            "justify_content": null,
            "justify_items": null,
            "left": null,
            "margin": null,
            "max_height": null,
            "max_width": null,
            "min_height": null,
            "min_width": null,
            "object_fit": null,
            "object_position": null,
            "order": null,
            "overflow": null,
            "overflow_x": null,
            "overflow_y": null,
            "padding": null,
            "right": null,
            "top": null,
            "visibility": null,
            "width": null
          }
        },
        "02bf768e0612475da3271cb78265d3c2": {
          "model_module": "@jupyter-widgets/base",
          "model_name": "LayoutModel",
          "model_module_version": "1.2.0",
          "state": {
            "_model_module": "@jupyter-widgets/base",
            "_model_module_version": "1.2.0",
            "_model_name": "LayoutModel",
            "_view_count": null,
            "_view_module": "@jupyter-widgets/base",
            "_view_module_version": "1.2.0",
            "_view_name": "LayoutView",
            "align_content": null,
            "align_items": null,
            "align_self": null,
            "border": null,
            "bottom": null,
            "display": null,
            "flex": null,
            "flex_flow": null,
            "grid_area": null,
            "grid_auto_columns": null,
            "grid_auto_flow": null,
            "grid_auto_rows": null,
            "grid_column": null,
            "grid_gap": null,
            "grid_row": null,
            "grid_template_areas": null,
            "grid_template_columns": null,
            "grid_template_rows": null,
            "height": null,
            "justify_content": null,
            "justify_items": null,
            "left": null,
            "margin": null,
            "max_height": null,
            "max_width": null,
            "min_height": null,
            "min_width": null,
            "object_fit": null,
            "object_position": null,
            "order": null,
            "overflow": null,
            "overflow_x": null,
            "overflow_y": null,
            "padding": null,
            "right": null,
            "top": null,
            "visibility": null,
            "width": null
          }
        },
        "9413752badc04649ae930a5a7618c6c1": {
          "model_module": "@jupyter-widgets/controls",
          "model_name": "DescriptionStyleModel",
          "model_module_version": "1.5.0",
          "state": {
            "_model_module": "@jupyter-widgets/controls",
            "_model_module_version": "1.5.0",
            "_model_name": "DescriptionStyleModel",
            "_view_count": null,
            "_view_module": "@jupyter-widgets/base",
            "_view_module_version": "1.2.0",
            "_view_name": "StyleView",
            "description_width": ""
          }
        },
        "9d7c5081c3f54eb2ab0e4b7ac5fe56ac": {
          "model_module": "@jupyter-widgets/base",
          "model_name": "LayoutModel",
          "model_module_version": "1.2.0",
          "state": {
            "_model_module": "@jupyter-widgets/base",
            "_model_module_version": "1.2.0",
            "_model_name": "LayoutModel",
            "_view_count": null,
            "_view_module": "@jupyter-widgets/base",
            "_view_module_version": "1.2.0",
            "_view_name": "LayoutView",
            "align_content": null,
            "align_items": null,
            "align_self": null,
            "border": null,
            "bottom": null,
            "display": null,
            "flex": null,
            "flex_flow": null,
            "grid_area": null,
            "grid_auto_columns": null,
            "grid_auto_flow": null,
            "grid_auto_rows": null,
            "grid_column": null,
            "grid_gap": null,
            "grid_row": null,
            "grid_template_areas": null,
            "grid_template_columns": null,
            "grid_template_rows": null,
            "height": null,
            "justify_content": null,
            "justify_items": null,
            "left": null,
            "margin": null,
            "max_height": null,
            "max_width": null,
            "min_height": null,
            "min_width": null,
            "object_fit": null,
            "object_position": null,
            "order": null,
            "overflow": null,
            "overflow_x": null,
            "overflow_y": null,
            "padding": null,
            "right": null,
            "top": null,
            "visibility": null,
            "width": null
          }
        },
        "601c7a493bc64a3b892c5ded85f4853f": {
          "model_module": "@jupyter-widgets/controls",
          "model_name": "ProgressStyleModel",
          "model_module_version": "1.5.0",
          "state": {
            "_model_module": "@jupyter-widgets/controls",
            "_model_module_version": "1.5.0",
            "_model_name": "ProgressStyleModel",
            "_view_count": null,
            "_view_module": "@jupyter-widgets/base",
            "_view_module_version": "1.2.0",
            "_view_name": "StyleView",
            "bar_color": null,
            "description_width": ""
          }
        },
        "cada949c8e044b53b7e31c28d7b7d018": {
          "model_module": "@jupyter-widgets/base",
          "model_name": "LayoutModel",
          "model_module_version": "1.2.0",
          "state": {
            "_model_module": "@jupyter-widgets/base",
            "_model_module_version": "1.2.0",
            "_model_name": "LayoutModel",
            "_view_count": null,
            "_view_module": "@jupyter-widgets/base",
            "_view_module_version": "1.2.0",
            "_view_name": "LayoutView",
            "align_content": null,
            "align_items": null,
            "align_self": null,
            "border": null,
            "bottom": null,
            "display": null,
            "flex": null,
            "flex_flow": null,
            "grid_area": null,
            "grid_auto_columns": null,
            "grid_auto_flow": null,
            "grid_auto_rows": null,
            "grid_column": null,
            "grid_gap": null,
            "grid_row": null,
            "grid_template_areas": null,
            "grid_template_columns": null,
            "grid_template_rows": null,
            "height": null,
            "justify_content": null,
            "justify_items": null,
            "left": null,
            "margin": null,
            "max_height": null,
            "max_width": null,
            "min_height": null,
            "min_width": null,
            "object_fit": null,
            "object_position": null,
            "order": null,
            "overflow": null,
            "overflow_x": null,
            "overflow_y": null,
            "padding": null,
            "right": null,
            "top": null,
            "visibility": null,
            "width": null
          }
        },
        "610d468c660148b3a4dc80934ad3af26": {
          "model_module": "@jupyter-widgets/controls",
          "model_name": "DescriptionStyleModel",
          "model_module_version": "1.5.0",
          "state": {
            "_model_module": "@jupyter-widgets/controls",
            "_model_module_version": "1.5.0",
            "_model_name": "DescriptionStyleModel",
            "_view_count": null,
            "_view_module": "@jupyter-widgets/base",
            "_view_module_version": "1.2.0",
            "_view_name": "StyleView",
            "description_width": ""
          }
        },
        "dc4f045e805242edb9f734e83c44adf6": {
          "model_module": "@jupyter-widgets/controls",
          "model_name": "HBoxModel",
          "model_module_version": "1.5.0",
          "state": {
            "_dom_classes": [],
            "_model_module": "@jupyter-widgets/controls",
            "_model_module_version": "1.5.0",
            "_model_name": "HBoxModel",
            "_view_count": null,
            "_view_module": "@jupyter-widgets/controls",
            "_view_module_version": "1.5.0",
            "_view_name": "HBoxView",
            "box_style": "",
            "children": [
              "IPY_MODEL_71aaa1241da6431b9bc12932f0f46490",
              "IPY_MODEL_3788f0aec574422f800204ee4b89ec76",
              "IPY_MODEL_042bb630a61e4de9aadd58c36b345f9e"
            ],
            "layout": "IPY_MODEL_42dd4e78829b4a5ca62398914c9ebb67"
          }
        },
        "71aaa1241da6431b9bc12932f0f46490": {
          "model_module": "@jupyter-widgets/controls",
          "model_name": "HTMLModel",
          "model_module_version": "1.5.0",
          "state": {
            "_dom_classes": [],
            "_model_module": "@jupyter-widgets/controls",
            "_model_module_version": "1.5.0",
            "_model_name": "HTMLModel",
            "_view_count": null,
            "_view_module": "@jupyter-widgets/controls",
            "_view_module_version": "1.5.0",
            "_view_name": "HTMLView",
            "description": "",
            "description_tooltip": null,
            "layout": "IPY_MODEL_0a9aebf694a044fbb7bfd9dfdd397069",
            "placeholder": "​",
            "style": "IPY_MODEL_5573d465d0384ecdbf0213124c51ac3f",
            "value": "tokenizer.json: 100%"
          }
        },
        "3788f0aec574422f800204ee4b89ec76": {
          "model_module": "@jupyter-widgets/controls",
          "model_name": "FloatProgressModel",
          "model_module_version": "1.5.0",
          "state": {
            "_dom_classes": [],
            "_model_module": "@jupyter-widgets/controls",
            "_model_module_version": "1.5.0",
            "_model_name": "FloatProgressModel",
            "_view_count": null,
            "_view_module": "@jupyter-widgets/controls",
            "_view_module_version": "1.5.0",
            "_view_name": "ProgressView",
            "bar_style": "success",
            "description": "",
            "description_tooltip": null,
            "layout": "IPY_MODEL_0876cb44b2a74950b58e1e8341e45a46",
            "max": 466062,
            "min": 0,
            "orientation": "horizontal",
            "style": "IPY_MODEL_76278af35e054b6b9bc0f76c10891c3a",
            "value": 466062
          }
        },
        "042bb630a61e4de9aadd58c36b345f9e": {
          "model_module": "@jupyter-widgets/controls",
          "model_name": "HTMLModel",
          "model_module_version": "1.5.0",
          "state": {
            "_dom_classes": [],
            "_model_module": "@jupyter-widgets/controls",
            "_model_module_version": "1.5.0",
            "_model_name": "HTMLModel",
            "_view_count": null,
            "_view_module": "@jupyter-widgets/controls",
            "_view_module_version": "1.5.0",
            "_view_name": "HTMLView",
            "description": "",
            "description_tooltip": null,
            "layout": "IPY_MODEL_9e6d24add2a84c7b86829dffc66a6ac3",
            "placeholder": "​",
            "style": "IPY_MODEL_4c2a168933f74a24aec8345277da1a0a",
            "value": " 466k/466k [00:00&lt;00:00, 8.48MB/s]"
          }
        },
        "42dd4e78829b4a5ca62398914c9ebb67": {
          "model_module": "@jupyter-widgets/base",
          "model_name": "LayoutModel",
          "model_module_version": "1.2.0",
          "state": {
            "_model_module": "@jupyter-widgets/base",
            "_model_module_version": "1.2.0",
            "_model_name": "LayoutModel",
            "_view_count": null,
            "_view_module": "@jupyter-widgets/base",
            "_view_module_version": "1.2.0",
            "_view_name": "LayoutView",
            "align_content": null,
            "align_items": null,
            "align_self": null,
            "border": null,
            "bottom": null,
            "display": null,
            "flex": null,
            "flex_flow": null,
            "grid_area": null,
            "grid_auto_columns": null,
            "grid_auto_flow": null,
            "grid_auto_rows": null,
            "grid_column": null,
            "grid_gap": null,
            "grid_row": null,
            "grid_template_areas": null,
            "grid_template_columns": null,
            "grid_template_rows": null,
            "height": null,
            "justify_content": null,
            "justify_items": null,
            "left": null,
            "margin": null,
            "max_height": null,
            "max_width": null,
            "min_height": null,
            "min_width": null,
            "object_fit": null,
            "object_position": null,
            "order": null,
            "overflow": null,
            "overflow_x": null,
            "overflow_y": null,
            "padding": null,
            "right": null,
            "top": null,
            "visibility": null,
            "width": null
          }
        },
        "0a9aebf694a044fbb7bfd9dfdd397069": {
          "model_module": "@jupyter-widgets/base",
          "model_name": "LayoutModel",
          "model_module_version": "1.2.0",
          "state": {
            "_model_module": "@jupyter-widgets/base",
            "_model_module_version": "1.2.0",
            "_model_name": "LayoutModel",
            "_view_count": null,
            "_view_module": "@jupyter-widgets/base",
            "_view_module_version": "1.2.0",
            "_view_name": "LayoutView",
            "align_content": null,
            "align_items": null,
            "align_self": null,
            "border": null,
            "bottom": null,
            "display": null,
            "flex": null,
            "flex_flow": null,
            "grid_area": null,
            "grid_auto_columns": null,
            "grid_auto_flow": null,
            "grid_auto_rows": null,
            "grid_column": null,
            "grid_gap": null,
            "grid_row": null,
            "grid_template_areas": null,
            "grid_template_columns": null,
            "grid_template_rows": null,
            "height": null,
            "justify_content": null,
            "justify_items": null,
            "left": null,
            "margin": null,
            "max_height": null,
            "max_width": null,
            "min_height": null,
            "min_width": null,
            "object_fit": null,
            "object_position": null,
            "order": null,
            "overflow": null,
            "overflow_x": null,
            "overflow_y": null,
            "padding": null,
            "right": null,
            "top": null,
            "visibility": null,
            "width": null
          }
        },
        "5573d465d0384ecdbf0213124c51ac3f": {
          "model_module": "@jupyter-widgets/controls",
          "model_name": "DescriptionStyleModel",
          "model_module_version": "1.5.0",
          "state": {
            "_model_module": "@jupyter-widgets/controls",
            "_model_module_version": "1.5.0",
            "_model_name": "DescriptionStyleModel",
            "_view_count": null,
            "_view_module": "@jupyter-widgets/base",
            "_view_module_version": "1.2.0",
            "_view_name": "StyleView",
            "description_width": ""
          }
        },
        "0876cb44b2a74950b58e1e8341e45a46": {
          "model_module": "@jupyter-widgets/base",
          "model_name": "LayoutModel",
          "model_module_version": "1.2.0",
          "state": {
            "_model_module": "@jupyter-widgets/base",
            "_model_module_version": "1.2.0",
            "_model_name": "LayoutModel",
            "_view_count": null,
            "_view_module": "@jupyter-widgets/base",
            "_view_module_version": "1.2.0",
            "_view_name": "LayoutView",
            "align_content": null,
            "align_items": null,
            "align_self": null,
            "border": null,
            "bottom": null,
            "display": null,
            "flex": null,
            "flex_flow": null,
            "grid_area": null,
            "grid_auto_columns": null,
            "grid_auto_flow": null,
            "grid_auto_rows": null,
            "grid_column": null,
            "grid_gap": null,
            "grid_row": null,
            "grid_template_areas": null,
            "grid_template_columns": null,
            "grid_template_rows": null,
            "height": null,
            "justify_content": null,
            "justify_items": null,
            "left": null,
            "margin": null,
            "max_height": null,
            "max_width": null,
            "min_height": null,
            "min_width": null,
            "object_fit": null,
            "object_position": null,
            "order": null,
            "overflow": null,
            "overflow_x": null,
            "overflow_y": null,
            "padding": null,
            "right": null,
            "top": null,
            "visibility": null,
            "width": null
          }
        },
        "76278af35e054b6b9bc0f76c10891c3a": {
          "model_module": "@jupyter-widgets/controls",
          "model_name": "ProgressStyleModel",
          "model_module_version": "1.5.0",
          "state": {
            "_model_module": "@jupyter-widgets/controls",
            "_model_module_version": "1.5.0",
            "_model_name": "ProgressStyleModel",
            "_view_count": null,
            "_view_module": "@jupyter-widgets/base",
            "_view_module_version": "1.2.0",
            "_view_name": "StyleView",
            "bar_color": null,
            "description_width": ""
          }
        },
        "9e6d24add2a84c7b86829dffc66a6ac3": {
          "model_module": "@jupyter-widgets/base",
          "model_name": "LayoutModel",
          "model_module_version": "1.2.0",
          "state": {
            "_model_module": "@jupyter-widgets/base",
            "_model_module_version": "1.2.0",
            "_model_name": "LayoutModel",
            "_view_count": null,
            "_view_module": "@jupyter-widgets/base",
            "_view_module_version": "1.2.0",
            "_view_name": "LayoutView",
            "align_content": null,
            "align_items": null,
            "align_self": null,
            "border": null,
            "bottom": null,
            "display": null,
            "flex": null,
            "flex_flow": null,
            "grid_area": null,
            "grid_auto_columns": null,
            "grid_auto_flow": null,
            "grid_auto_rows": null,
            "grid_column": null,
            "grid_gap": null,
            "grid_row": null,
            "grid_template_areas": null,
            "grid_template_columns": null,
            "grid_template_rows": null,
            "height": null,
            "justify_content": null,
            "justify_items": null,
            "left": null,
            "margin": null,
            "max_height": null,
            "max_width": null,
            "min_height": null,
            "min_width": null,
            "object_fit": null,
            "object_position": null,
            "order": null,
            "overflow": null,
            "overflow_x": null,
            "overflow_y": null,
            "padding": null,
            "right": null,
            "top": null,
            "visibility": null,
            "width": null
          }
        },
        "4c2a168933f74a24aec8345277da1a0a": {
          "model_module": "@jupyter-widgets/controls",
          "model_name": "DescriptionStyleModel",
          "model_module_version": "1.5.0",
          "state": {
            "_model_module": "@jupyter-widgets/controls",
            "_model_module_version": "1.5.0",
            "_model_name": "DescriptionStyleModel",
            "_view_count": null,
            "_view_module": "@jupyter-widgets/base",
            "_view_module_version": "1.2.0",
            "_view_name": "StyleView",
            "description_width": ""
          }
        },
        "a3a7d3778ff74a1084ed7e83a321cc89": {
          "model_module": "@jupyter-widgets/controls",
          "model_name": "HBoxModel",
          "model_module_version": "1.5.0",
          "state": {
            "_dom_classes": [],
            "_model_module": "@jupyter-widgets/controls",
            "_model_module_version": "1.5.0",
            "_model_name": "HBoxModel",
            "_view_count": null,
            "_view_module": "@jupyter-widgets/controls",
            "_view_module_version": "1.5.0",
            "_view_name": "HBoxView",
            "box_style": "",
            "children": [
              "IPY_MODEL_11cbb9e7fa044606ab1fdc8f9eb57a15",
              "IPY_MODEL_490010db944d4f20abfedf38ef6cefd8",
              "IPY_MODEL_03ef32a5f00e4985a7e0a71416984ad0"
            ],
            "layout": "IPY_MODEL_3172b1a2cfbe428a9a0ac82cd42caa75"
          }
        },
        "11cbb9e7fa044606ab1fdc8f9eb57a15": {
          "model_module": "@jupyter-widgets/controls",
          "model_name": "HTMLModel",
          "model_module_version": "1.5.0",
          "state": {
            "_dom_classes": [],
            "_model_module": "@jupyter-widgets/controls",
            "_model_module_version": "1.5.0",
            "_model_name": "HTMLModel",
            "_view_count": null,
            "_view_module": "@jupyter-widgets/controls",
            "_view_module_version": "1.5.0",
            "_view_name": "HTMLView",
            "description": "",
            "description_tooltip": null,
            "layout": "IPY_MODEL_7a61ecee5daa4b2182b82b63cc8b1f79",
            "placeholder": "​",
            "style": "IPY_MODEL_c6aaaab4d3d649eba60af9a4806c16d8",
            "value": "model.safetensors: 100%"
          }
        },
        "490010db944d4f20abfedf38ef6cefd8": {
          "model_module": "@jupyter-widgets/controls",
          "model_name": "FloatProgressModel",
          "model_module_version": "1.5.0",
          "state": {
            "_dom_classes": [],
            "_model_module": "@jupyter-widgets/controls",
            "_model_module_version": "1.5.0",
            "_model_name": "FloatProgressModel",
            "_view_count": null,
            "_view_module": "@jupyter-widgets/controls",
            "_view_module_version": "1.5.0",
            "_view_name": "ProgressView",
            "bar_style": "success",
            "description": "",
            "description_tooltip": null,
            "layout": "IPY_MODEL_9c8d01844030400789521f8714433c0a",
            "max": 440449768,
            "min": 0,
            "orientation": "horizontal",
            "style": "IPY_MODEL_cbad830fb79c4d4dba388019fdbeb2d5",
            "value": 440449768
          }
        },
        "03ef32a5f00e4985a7e0a71416984ad0": {
          "model_module": "@jupyter-widgets/controls",
          "model_name": "HTMLModel",
          "model_module_version": "1.5.0",
          "state": {
            "_dom_classes": [],
            "_model_module": "@jupyter-widgets/controls",
            "_model_module_version": "1.5.0",
            "_model_name": "HTMLModel",
            "_view_count": null,
            "_view_module": "@jupyter-widgets/controls",
            "_view_module_version": "1.5.0",
            "_view_name": "HTMLView",
            "description": "",
            "description_tooltip": null,
            "layout": "IPY_MODEL_05221d3f28394268bf018783d87ece05",
            "placeholder": "​",
            "style": "IPY_MODEL_a8506cc13fee432b9d4ce81e8ffbc238",
            "value": " 440M/440M [00:06&lt;00:00, 99.1MB/s]"
          }
        },
        "3172b1a2cfbe428a9a0ac82cd42caa75": {
          "model_module": "@jupyter-widgets/base",
          "model_name": "LayoutModel",
          "model_module_version": "1.2.0",
          "state": {
            "_model_module": "@jupyter-widgets/base",
            "_model_module_version": "1.2.0",
            "_model_name": "LayoutModel",
            "_view_count": null,
            "_view_module": "@jupyter-widgets/base",
            "_view_module_version": "1.2.0",
            "_view_name": "LayoutView",
            "align_content": null,
            "align_items": null,
            "align_self": null,
            "border": null,
            "bottom": null,
            "display": null,
            "flex": null,
            "flex_flow": null,
            "grid_area": null,
            "grid_auto_columns": null,
            "grid_auto_flow": null,
            "grid_auto_rows": null,
            "grid_column": null,
            "grid_gap": null,
            "grid_row": null,
            "grid_template_areas": null,
            "grid_template_columns": null,
            "grid_template_rows": null,
            "height": null,
            "justify_content": null,
            "justify_items": null,
            "left": null,
            "margin": null,
            "max_height": null,
            "max_width": null,
            "min_height": null,
            "min_width": null,
            "object_fit": null,
            "object_position": null,
            "order": null,
            "overflow": null,
            "overflow_x": null,
            "overflow_y": null,
            "padding": null,
            "right": null,
            "top": null,
            "visibility": null,
            "width": null
          }
        },
        "7a61ecee5daa4b2182b82b63cc8b1f79": {
          "model_module": "@jupyter-widgets/base",
          "model_name": "LayoutModel",
          "model_module_version": "1.2.0",
          "state": {
            "_model_module": "@jupyter-widgets/base",
            "_model_module_version": "1.2.0",
            "_model_name": "LayoutModel",
            "_view_count": null,
            "_view_module": "@jupyter-widgets/base",
            "_view_module_version": "1.2.0",
            "_view_name": "LayoutView",
            "align_content": null,
            "align_items": null,
            "align_self": null,
            "border": null,
            "bottom": null,
            "display": null,
            "flex": null,
            "flex_flow": null,
            "grid_area": null,
            "grid_auto_columns": null,
            "grid_auto_flow": null,
            "grid_auto_rows": null,
            "grid_column": null,
            "grid_gap": null,
            "grid_row": null,
            "grid_template_areas": null,
            "grid_template_columns": null,
            "grid_template_rows": null,
            "height": null,
            "justify_content": null,
            "justify_items": null,
            "left": null,
            "margin": null,
            "max_height": null,
            "max_width": null,
            "min_height": null,
            "min_width": null,
            "object_fit": null,
            "object_position": null,
            "order": null,
            "overflow": null,
            "overflow_x": null,
            "overflow_y": null,
            "padding": null,
            "right": null,
            "top": null,
            "visibility": null,
            "width": null
          }
        },
        "c6aaaab4d3d649eba60af9a4806c16d8": {
          "model_module": "@jupyter-widgets/controls",
          "model_name": "DescriptionStyleModel",
          "model_module_version": "1.5.0",
          "state": {
            "_model_module": "@jupyter-widgets/controls",
            "_model_module_version": "1.5.0",
            "_model_name": "DescriptionStyleModel",
            "_view_count": null,
            "_view_module": "@jupyter-widgets/base",
            "_view_module_version": "1.2.0",
            "_view_name": "StyleView",
            "description_width": ""
          }
        },
        "9c8d01844030400789521f8714433c0a": {
          "model_module": "@jupyter-widgets/base",
          "model_name": "LayoutModel",
          "model_module_version": "1.2.0",
          "state": {
            "_model_module": "@jupyter-widgets/base",
            "_model_module_version": "1.2.0",
            "_model_name": "LayoutModel",
            "_view_count": null,
            "_view_module": "@jupyter-widgets/base",
            "_view_module_version": "1.2.0",
            "_view_name": "LayoutView",
            "align_content": null,
            "align_items": null,
            "align_self": null,
            "border": null,
            "bottom": null,
            "display": null,
            "flex": null,
            "flex_flow": null,
            "grid_area": null,
            "grid_auto_columns": null,
            "grid_auto_flow": null,
            "grid_auto_rows": null,
            "grid_column": null,
            "grid_gap": null,
            "grid_row": null,
            "grid_template_areas": null,
            "grid_template_columns": null,
            "grid_template_rows": null,
            "height": null,
            "justify_content": null,
            "justify_items": null,
            "left": null,
            "margin": null,
            "max_height": null,
            "max_width": null,
            "min_height": null,
            "min_width": null,
            "object_fit": null,
            "object_position": null,
            "order": null,
            "overflow": null,
            "overflow_x": null,
            "overflow_y": null,
            "padding": null,
            "right": null,
            "top": null,
            "visibility": null,
            "width": null
          }
        },
        "cbad830fb79c4d4dba388019fdbeb2d5": {
          "model_module": "@jupyter-widgets/controls",
          "model_name": "ProgressStyleModel",
          "model_module_version": "1.5.0",
          "state": {
            "_model_module": "@jupyter-widgets/controls",
            "_model_module_version": "1.5.0",
            "_model_name": "ProgressStyleModel",
            "_view_count": null,
            "_view_module": "@jupyter-widgets/base",
            "_view_module_version": "1.2.0",
            "_view_name": "StyleView",
            "bar_color": null,
            "description_width": ""
          }
        },
        "05221d3f28394268bf018783d87ece05": {
          "model_module": "@jupyter-widgets/base",
          "model_name": "LayoutModel",
          "model_module_version": "1.2.0",
          "state": {
            "_model_module": "@jupyter-widgets/base",
            "_model_module_version": "1.2.0",
            "_model_name": "LayoutModel",
            "_view_count": null,
            "_view_module": "@jupyter-widgets/base",
            "_view_module_version": "1.2.0",
            "_view_name": "LayoutView",
            "align_content": null,
            "align_items": null,
            "align_self": null,
            "border": null,
            "bottom": null,
            "display": null,
            "flex": null,
            "flex_flow": null,
            "grid_area": null,
            "grid_auto_columns": null,
            "grid_auto_flow": null,
            "grid_auto_rows": null,
            "grid_column": null,
            "grid_gap": null,
            "grid_row": null,
            "grid_template_areas": null,
            "grid_template_columns": null,
            "grid_template_rows": null,
            "height": null,
            "justify_content": null,
            "justify_items": null,
            "left": null,
            "margin": null,
            "max_height": null,
            "max_width": null,
            "min_height": null,
            "min_width": null,
            "object_fit": null,
            "object_position": null,
            "order": null,
            "overflow": null,
            "overflow_x": null,
            "overflow_y": null,
            "padding": null,
            "right": null,
            "top": null,
            "visibility": null,
            "width": null
          }
        },
        "a8506cc13fee432b9d4ce81e8ffbc238": {
          "model_module": "@jupyter-widgets/controls",
          "model_name": "DescriptionStyleModel",
          "model_module_version": "1.5.0",
          "state": {
            "_model_module": "@jupyter-widgets/controls",
            "_model_module_version": "1.5.0",
            "_model_name": "DescriptionStyleModel",
            "_view_count": null,
            "_view_module": "@jupyter-widgets/base",
            "_view_module_version": "1.2.0",
            "_view_name": "StyleView",
            "description_width": ""
          }
        }
      }
    }
  },
  "cells": [
    {
      "cell_type": "markdown",
      "metadata": {
        "id": "view-in-github",
        "colab_type": "text"
      },
      "source": [
        "<a href=\"https://colab.research.google.com/github/chiconasa3000/learn_nlp/blob/main/arch_transformers_encoder.ipynb\" target=\"_parent\"><img src=\"https://colab.research.google.com/assets/colab-badge.svg\" alt=\"Open In Colab\"/></a>"
      ]
    },
    {
      "cell_type": "code",
      "source": [
        "!pip install transformers"
      ],
      "metadata": {
        "id": "DWkvC-qJ0X9-",
        "colab": {
          "base_uri": "https://localhost:8080/"
        },
        "outputId": "d89e39fd-e721-4d84-cfa3-bbe4d5acf51d"
      },
      "execution_count": 1,
      "outputs": [
        {
          "output_type": "stream",
          "name": "stdout",
          "text": [
            "Requirement already satisfied: transformers in /usr/local/lib/python3.10/dist-packages (4.35.2)\n",
            "Requirement already satisfied: filelock in /usr/local/lib/python3.10/dist-packages (from transformers) (3.13.1)\n",
            "Requirement already satisfied: huggingface-hub<1.0,>=0.16.4 in /usr/local/lib/python3.10/dist-packages (from transformers) (0.19.4)\n",
            "Requirement already satisfied: numpy>=1.17 in /usr/local/lib/python3.10/dist-packages (from transformers) (1.23.5)\n",
            "Requirement already satisfied: packaging>=20.0 in /usr/local/lib/python3.10/dist-packages (from transformers) (23.2)\n",
            "Requirement already satisfied: pyyaml>=5.1 in /usr/local/lib/python3.10/dist-packages (from transformers) (6.0.1)\n",
            "Requirement already satisfied: regex!=2019.12.17 in /usr/local/lib/python3.10/dist-packages (from transformers) (2023.6.3)\n",
            "Requirement already satisfied: requests in /usr/local/lib/python3.10/dist-packages (from transformers) (2.31.0)\n",
            "Requirement already satisfied: tokenizers<0.19,>=0.14 in /usr/local/lib/python3.10/dist-packages (from transformers) (0.15.0)\n",
            "Requirement already satisfied: safetensors>=0.3.1 in /usr/local/lib/python3.10/dist-packages (from transformers) (0.4.1)\n",
            "Requirement already satisfied: tqdm>=4.27 in /usr/local/lib/python3.10/dist-packages (from transformers) (4.66.1)\n",
            "Requirement already satisfied: fsspec>=2023.5.0 in /usr/local/lib/python3.10/dist-packages (from huggingface-hub<1.0,>=0.16.4->transformers) (2023.6.0)\n",
            "Requirement already satisfied: typing-extensions>=3.7.4.3 in /usr/local/lib/python3.10/dist-packages (from huggingface-hub<1.0,>=0.16.4->transformers) (4.5.0)\n",
            "Requirement already satisfied: charset-normalizer<4,>=2 in /usr/local/lib/python3.10/dist-packages (from requests->transformers) (3.3.2)\n",
            "Requirement already satisfied: idna<4,>=2.5 in /usr/local/lib/python3.10/dist-packages (from requests->transformers) (3.6)\n",
            "Requirement already satisfied: urllib3<3,>=1.21.1 in /usr/local/lib/python3.10/dist-packages (from requests->transformers) (2.0.7)\n",
            "Requirement already satisfied: certifi>=2017.4.17 in /usr/local/lib/python3.10/dist-packages (from requests->transformers) (2023.11.17)\n"
          ]
        }
      ]
    },
    {
      "cell_type": "code",
      "source": [
        "!pip install bertviz"
      ],
      "metadata": {
        "id": "X91EIcNx5nYa",
        "colab": {
          "base_uri": "https://localhost:8080/"
        },
        "outputId": "79bfd2c8-746a-4589-8ee0-b978a5e2baf0"
      },
      "execution_count": 2,
      "outputs": [
        {
          "output_type": "stream",
          "name": "stdout",
          "text": [
            "Collecting bertviz\n",
            "  Downloading bertviz-1.4.0-py3-none-any.whl (157 kB)\n",
            "\u001b[2K     \u001b[90m━━━━━━━━━━━━━━━━━━━━━━━━━━━━━━━━━━━━━━━━\u001b[0m \u001b[32m157.6/157.6 kB\u001b[0m \u001b[31m2.4 MB/s\u001b[0m eta \u001b[36m0:00:00\u001b[0m\n",
            "\u001b[?25hRequirement already satisfied: transformers>=2.0 in /usr/local/lib/python3.10/dist-packages (from bertviz) (4.35.2)\n",
            "Requirement already satisfied: torch>=1.0 in /usr/local/lib/python3.10/dist-packages (from bertviz) (2.1.0+cu121)\n",
            "Requirement already satisfied: tqdm in /usr/local/lib/python3.10/dist-packages (from bertviz) (4.66.1)\n",
            "Collecting boto3 (from bertviz)\n",
            "  Downloading boto3-1.34.2-py3-none-any.whl (139 kB)\n",
            "\u001b[2K     \u001b[90m━━━━━━━━━━━━━━━━━━━━━━━━━━━━━━━━━━━━━━━━\u001b[0m \u001b[32m139.3/139.3 kB\u001b[0m \u001b[31m8.2 MB/s\u001b[0m eta \u001b[36m0:00:00\u001b[0m\n",
            "\u001b[?25hRequirement already satisfied: requests in /usr/local/lib/python3.10/dist-packages (from bertviz) (2.31.0)\n",
            "Requirement already satisfied: regex in /usr/local/lib/python3.10/dist-packages (from bertviz) (2023.6.3)\n",
            "Collecting sentencepiece (from bertviz)\n",
            "  Downloading sentencepiece-0.1.99-cp310-cp310-manylinux_2_17_x86_64.manylinux2014_x86_64.whl (1.3 MB)\n",
            "\u001b[2K     \u001b[90m━━━━━━━━━━━━━━━━━━━━━━━━━━━━━━━━━━━━━━━━\u001b[0m \u001b[32m1.3/1.3 MB\u001b[0m \u001b[31m10.4 MB/s\u001b[0m eta \u001b[36m0:00:00\u001b[0m\n",
            "\u001b[?25hRequirement already satisfied: filelock in /usr/local/lib/python3.10/dist-packages (from torch>=1.0->bertviz) (3.13.1)\n",
            "Requirement already satisfied: typing-extensions in /usr/local/lib/python3.10/dist-packages (from torch>=1.0->bertviz) (4.5.0)\n",
            "Requirement already satisfied: sympy in /usr/local/lib/python3.10/dist-packages (from torch>=1.0->bertviz) (1.12)\n",
            "Requirement already satisfied: networkx in /usr/local/lib/python3.10/dist-packages (from torch>=1.0->bertviz) (3.2.1)\n",
            "Requirement already satisfied: jinja2 in /usr/local/lib/python3.10/dist-packages (from torch>=1.0->bertviz) (3.1.2)\n",
            "Requirement already satisfied: fsspec in /usr/local/lib/python3.10/dist-packages (from torch>=1.0->bertviz) (2023.6.0)\n",
            "Requirement already satisfied: triton==2.1.0 in /usr/local/lib/python3.10/dist-packages (from torch>=1.0->bertviz) (2.1.0)\n",
            "Requirement already satisfied: huggingface-hub<1.0,>=0.16.4 in /usr/local/lib/python3.10/dist-packages (from transformers>=2.0->bertviz) (0.19.4)\n",
            "Requirement already satisfied: numpy>=1.17 in /usr/local/lib/python3.10/dist-packages (from transformers>=2.0->bertviz) (1.23.5)\n",
            "Requirement already satisfied: packaging>=20.0 in /usr/local/lib/python3.10/dist-packages (from transformers>=2.0->bertviz) (23.2)\n",
            "Requirement already satisfied: pyyaml>=5.1 in /usr/local/lib/python3.10/dist-packages (from transformers>=2.0->bertviz) (6.0.1)\n",
            "Requirement already satisfied: tokenizers<0.19,>=0.14 in /usr/local/lib/python3.10/dist-packages (from transformers>=2.0->bertviz) (0.15.0)\n",
            "Requirement already satisfied: safetensors>=0.3.1 in /usr/local/lib/python3.10/dist-packages (from transformers>=2.0->bertviz) (0.4.1)\n",
            "Collecting botocore<1.35.0,>=1.34.2 (from boto3->bertviz)\n",
            "  Downloading botocore-1.34.2-py3-none-any.whl (11.8 MB)\n",
            "\u001b[2K     \u001b[90m━━━━━━━━━━━━━━━━━━━━━━━━━━━━━━━━━━━━━━━━\u001b[0m \u001b[32m11.8/11.8 MB\u001b[0m \u001b[31m28.3 MB/s\u001b[0m eta \u001b[36m0:00:00\u001b[0m\n",
            "\u001b[?25hCollecting jmespath<2.0.0,>=0.7.1 (from boto3->bertviz)\n",
            "  Downloading jmespath-1.0.1-py3-none-any.whl (20 kB)\n",
            "Collecting s3transfer<0.10.0,>=0.9.0 (from boto3->bertviz)\n",
            "  Downloading s3transfer-0.9.0-py3-none-any.whl (82 kB)\n",
            "\u001b[2K     \u001b[90m━━━━━━━━━━━━━━━━━━━━━━━━━━━━━━━━━━━━━━━━\u001b[0m \u001b[32m82.0/82.0 kB\u001b[0m \u001b[31m12.6 MB/s\u001b[0m eta \u001b[36m0:00:00\u001b[0m\n",
            "\u001b[?25hRequirement already satisfied: charset-normalizer<4,>=2 in /usr/local/lib/python3.10/dist-packages (from requests->bertviz) (3.3.2)\n",
            "Requirement already satisfied: idna<4,>=2.5 in /usr/local/lib/python3.10/dist-packages (from requests->bertviz) (3.6)\n",
            "Requirement already satisfied: urllib3<3,>=1.21.1 in /usr/local/lib/python3.10/dist-packages (from requests->bertviz) (2.0.7)\n",
            "Requirement already satisfied: certifi>=2017.4.17 in /usr/local/lib/python3.10/dist-packages (from requests->bertviz) (2023.11.17)\n",
            "Requirement already satisfied: python-dateutil<3.0.0,>=2.1 in /usr/local/lib/python3.10/dist-packages (from botocore<1.35.0,>=1.34.2->boto3->bertviz) (2.8.2)\n",
            "Requirement already satisfied: MarkupSafe>=2.0 in /usr/local/lib/python3.10/dist-packages (from jinja2->torch>=1.0->bertviz) (2.1.3)\n",
            "Requirement already satisfied: mpmath>=0.19 in /usr/local/lib/python3.10/dist-packages (from sympy->torch>=1.0->bertviz) (1.3.0)\n",
            "Requirement already satisfied: six>=1.5 in /usr/local/lib/python3.10/dist-packages (from python-dateutil<3.0.0,>=2.1->botocore<1.35.0,>=1.34.2->boto3->bertviz) (1.16.0)\n",
            "Installing collected packages: sentencepiece, jmespath, botocore, s3transfer, boto3, bertviz\n",
            "Successfully installed bertviz-1.4.0 boto3-1.34.2 botocore-1.34.2 jmespath-1.0.1 s3transfer-0.9.0 sentencepiece-0.1.99\n"
          ]
        }
      ]
    },
    {
      "cell_type": "code",
      "source": [
        "from transformers import AutoTokenizer\n",
        "from transformers import AutoModel\n",
        "import torch\n",
        "\n",
        "model_ckpt = \"bert-base-uncased\"\n",
        "tokenizer = AutoTokenizer.from_pretrained(model_ckpt)\n",
        "device = torch.device(\"cuda\" if torch.cuda.is_available() else \"cpu\")\n",
        "model = AutoModel.from_pretrained(model_ckpt).to(device)\n",
        "text = \"time flies like an arrow\""
      ],
      "metadata": {
        "id": "sbk0r-4R4orC",
        "colab": {
          "base_uri": "https://localhost:8080/",
          "height": 177,
          "referenced_widgets": [
            "97e60a93c7924f989bddc5b9e5606c26",
            "c94649b4abfd4155967707dc3dc72435",
            "9bbcdeaae4bf48c79a3bb2868d7bb830",
            "087d0056b2cc48ef89d5317d2e8cefc2",
            "a225437720d84b4989de9207c5ee9709",
            "ec8ce39e0138424592892d0f1e9222d7",
            "5342c97b550e46df98f5abb52ca11440",
            "04bac5218ae649178ff0a80c3a582146",
            "f19f8cb2804c4afe86a8a8e803818505",
            "1ac7438bd9ff4e608bac1bc645fc0d57",
            "ef1c360ff69e4bb39b130e63f1dc5ca4",
            "fbb786b23b3f416a88d7f09c50578716",
            "bbb6d6679bf54674acab0c77cc59ddbd",
            "9bf9afa81fd841b3abcda8c4297b8101",
            "6963db5049f4402eafcb3c4dba8e7b75",
            "8f18dc7e904f4e4d9b5b654df08c678a",
            "db11029426ef4d0d9949656ad011d72a",
            "b6c2bc7222414a7facb72377a70d6b25",
            "935af8e9f2354bc9b0639b95a5241038",
            "6eba088d810b41888483a9f1ef403359",
            "26b2097c8d4e48fda80a913bfe4ed5df",
            "0797fb9baddb4e4ebfe1720d884e762c",
            "673e6ea3daaa4afba57b410132081885",
            "8beea1b813bf4be4bf6384b09bcafdbc",
            "e8c2bd27ff274b3aa2f603fbead4f03f",
            "89356d85b4ce420ca3e8b9ef95e3308a",
            "30b83d1d320340218c289c624ce46176",
            "02bf768e0612475da3271cb78265d3c2",
            "9413752badc04649ae930a5a7618c6c1",
            "9d7c5081c3f54eb2ab0e4b7ac5fe56ac",
            "601c7a493bc64a3b892c5ded85f4853f",
            "cada949c8e044b53b7e31c28d7b7d018",
            "610d468c660148b3a4dc80934ad3af26",
            "dc4f045e805242edb9f734e83c44adf6",
            "71aaa1241da6431b9bc12932f0f46490",
            "3788f0aec574422f800204ee4b89ec76",
            "042bb630a61e4de9aadd58c36b345f9e",
            "42dd4e78829b4a5ca62398914c9ebb67",
            "0a9aebf694a044fbb7bfd9dfdd397069",
            "5573d465d0384ecdbf0213124c51ac3f",
            "0876cb44b2a74950b58e1e8341e45a46",
            "76278af35e054b6b9bc0f76c10891c3a",
            "9e6d24add2a84c7b86829dffc66a6ac3",
            "4c2a168933f74a24aec8345277da1a0a",
            "a3a7d3778ff74a1084ed7e83a321cc89",
            "11cbb9e7fa044606ab1fdc8f9eb57a15",
            "490010db944d4f20abfedf38ef6cefd8",
            "03ef32a5f00e4985a7e0a71416984ad0",
            "3172b1a2cfbe428a9a0ac82cd42caa75",
            "7a61ecee5daa4b2182b82b63cc8b1f79",
            "c6aaaab4d3d649eba60af9a4806c16d8",
            "9c8d01844030400789521f8714433c0a",
            "cbad830fb79c4d4dba388019fdbeb2d5",
            "05221d3f28394268bf018783d87ece05",
            "a8506cc13fee432b9d4ce81e8ffbc238"
          ]
        },
        "outputId": "3fa9b3a3-5a32-4dc1-c815-895f169bfd65"
      },
      "execution_count": 3,
      "outputs": [
        {
          "output_type": "display_data",
          "data": {
            "text/plain": [
              "tokenizer_config.json:   0%|          | 0.00/28.0 [00:00<?, ?B/s]"
            ],
            "application/vnd.jupyter.widget-view+json": {
              "version_major": 2,
              "version_minor": 0,
              "model_id": "97e60a93c7924f989bddc5b9e5606c26"
            }
          },
          "metadata": {}
        },
        {
          "output_type": "display_data",
          "data": {
            "text/plain": [
              "config.json:   0%|          | 0.00/570 [00:00<?, ?B/s]"
            ],
            "application/vnd.jupyter.widget-view+json": {
              "version_major": 2,
              "version_minor": 0,
              "model_id": "fbb786b23b3f416a88d7f09c50578716"
            }
          },
          "metadata": {}
        },
        {
          "output_type": "display_data",
          "data": {
            "text/plain": [
              "vocab.txt:   0%|          | 0.00/232k [00:00<?, ?B/s]"
            ],
            "application/vnd.jupyter.widget-view+json": {
              "version_major": 2,
              "version_minor": 0,
              "model_id": "673e6ea3daaa4afba57b410132081885"
            }
          },
          "metadata": {}
        },
        {
          "output_type": "display_data",
          "data": {
            "text/plain": [
              "tokenizer.json:   0%|          | 0.00/466k [00:00<?, ?B/s]"
            ],
            "application/vnd.jupyter.widget-view+json": {
              "version_major": 2,
              "version_minor": 0,
              "model_id": "dc4f045e805242edb9f734e83c44adf6"
            }
          },
          "metadata": {}
        },
        {
          "output_type": "display_data",
          "data": {
            "text/plain": [
              "model.safetensors:   0%|          | 0.00/440M [00:00<?, ?B/s]"
            ],
            "application/vnd.jupyter.widget-view+json": {
              "version_major": 2,
              "version_minor": 0,
              "model_id": "a3a7d3778ff74a1084ed7e83a321cc89"
            }
          },
          "metadata": {}
        }
      ]
    },
    {
      "cell_type": "code",
      "source": [
        "inputs = tokenizer(text, return_tensors=\"pt\", add_special_tokens=False)\n",
        "inputs.input_ids"
      ],
      "metadata": {
        "colab": {
          "base_uri": "https://localhost:8080/"
        },
        "id": "H01rB8TA43Rn",
        "outputId": "31ca4254-c694-48d4-d41a-e7767a376429"
      },
      "execution_count": 4,
      "outputs": [
        {
          "output_type": "execute_result",
          "data": {
            "text/plain": [
              "tensor([[ 2051, 10029,  2066,  2019,  8612]])"
            ]
          },
          "metadata": {},
          "execution_count": 4
        }
      ]
    },
    {
      "cell_type": "code",
      "source": [
        "from torch import nn\n",
        "from transformers import AutoConfig"
      ],
      "metadata": {
        "id": "0lvDrPn-43cr"
      },
      "execution_count": 5,
      "outputs": []
    },
    {
      "cell_type": "code",
      "source": [
        "config = AutoConfig.from_pretrained(model_ckpt)\n",
        "# getting general token embedding from bert\n",
        "token_emb = nn.Embedding(config.vocab_size, config.hidden_size)\n",
        "token_emb"
      ],
      "metadata": {
        "colab": {
          "base_uri": "https://localhost:8080/"
        },
        "id": "Yn2_mFoO43t-",
        "outputId": "b67bbff2-53ef-420f-8544-77cd52c18bb6"
      },
      "execution_count": 6,
      "outputs": [
        {
          "output_type": "execute_result",
          "data": {
            "text/plain": [
              "Embedding(30522, 768)"
            ]
          },
          "metadata": {},
          "execution_count": 6
        }
      ]
    },
    {
      "cell_type": "code",
      "source": [
        "# use token_embedding to map ids\n",
        "inputs_embeds = token_emb(inputs.input_ids)\n",
        "inputs_embeds.size()\n",
        "# 5 tokens is the sequence length\n",
        "# [batch, seq_len, hidden_dim]"
      ],
      "metadata": {
        "colab": {
          "base_uri": "https://localhost:8080/"
        },
        "id": "B3hsk24R438W",
        "outputId": "35163354-fa7c-492e-90a6-6f27a6ab1c87"
      },
      "execution_count": 7,
      "outputs": [
        {
          "output_type": "execute_result",
          "data": {
            "text/plain": [
              "torch.Size([1, 5, 768])"
            ]
          },
          "metadata": {},
          "execution_count": 7
        }
      ]
    },
    {
      "cell_type": "code",
      "source": [
        "# [query, key] -> similarity function\n",
        "# get value\n",
        "import torch\n",
        "from math import sqrt\n",
        "\n",
        "query = key = value = inputs_embeds\n",
        "dim_k = key.size(-1) #768\n",
        "# batch multiplication matrix\n",
        "\n",
        "\n",
        "# TODO: all 20 tokens divided in batches of 4 tokens\n",
        "# every sequence has 4 tokens\n",
        "# every sequence gives a weight matrix\n",
        "# multiply weight matrix with other weight matrix\n",
        "# keep the relationships between all tokens\n",
        "\n",
        "# multiply matrix batch with the corresponding matrix batch\n",
        "scores = torch.bmm(query, key.transpose(1,2)) / sqrt(dim_k)\n",
        "# attention scores w_ji\n",
        "print(scores.size())"
      ],
      "metadata": {
        "colab": {
          "base_uri": "https://localhost:8080/"
        },
        "id": "-vDACT0244MI",
        "outputId": "ee1f561f-11fc-4269-863c-99cb43fcbba9"
      },
      "execution_count": 8,
      "outputs": [
        {
          "output_type": "stream",
          "name": "stdout",
          "text": [
            "torch.Size([1, 5, 5])\n"
          ]
        }
      ]
    },
    {
      "cell_type": "code",
      "source": [
        "import torch.nn.functional as F\n",
        "weights = F.softmax(scores, dim=-1)\n",
        "weights.sum(dim=-1)"
      ],
      "metadata": {
        "colab": {
          "base_uri": "https://localhost:8080/"
        },
        "id": "ogt5sN8bEI46",
        "outputId": "a5cf3d0b-238d-491f-fac4-cdfeb0b3fd6e"
      },
      "execution_count": 9,
      "outputs": [
        {
          "output_type": "execute_result",
          "data": {
            "text/plain": [
              "tensor([[1., 1., 1., 1., 1.]], grad_fn=<SumBackward1>)"
            ]
          },
          "metadata": {},
          "execution_count": 9
        }
      ]
    },
    {
      "cell_type": "markdown",
      "source": [
        "$x_i' = \\sum_{j=1}^{n}(w_{ji}x_{j})$"
      ],
      "metadata": {
        "id": "Nm-4Gv1u9i2k"
      }
    },
    {
      "cell_type": "code",
      "source": [
        "attn_outputs = torch.bmm(weights,value)\n",
        "attn_outputs.shape"
      ],
      "metadata": {
        "colab": {
          "base_uri": "https://localhost:8080/"
        },
        "id": "Zdhbl1Gs9i_r",
        "outputId": "3a372266-b9d5-4d31-c50d-46118eb924a6"
      },
      "execution_count": 10,
      "outputs": [
        {
          "output_type": "execute_result",
          "data": {
            "text/plain": [
              "torch.Size([1, 5, 768])"
            ]
          },
          "metadata": {},
          "execution_count": 10
        }
      ]
    },
    {
      "cell_type": "code",
      "source": [
        "# summary of attention\n",
        "def scaled_dot_product_attention(query, key, value):\n",
        "  dim_k = query.size(-1) #768\n",
        "  scores = torch.bmm(query,key.transpose(1,2))/ sqrt(dim_k)\n",
        "  weights = F.softmax(scores, dim=-1)\n",
        "  return torch.bmm(weights,value)"
      ],
      "metadata": {
        "id": "hs3vZOpz9jH9"
      },
      "execution_count": 11,
      "outputs": []
    },
    {
      "cell_type": "code",
      "source": [
        "\n",
        "# definition of one head\n",
        "class AttentionHead(nn.Module):\n",
        "  def __init__(self, embed_dim, head_dim):\n",
        "    super().__init__()\n",
        "    self.q = nn.Linear(embed_dim, head_dim)\n",
        "    self.k = nn.Linear(embed_dim, head_dim)\n",
        "    self.v = nn.Linear(embed_dim, head_dim)\n",
        "\n",
        "  def forward(self, hidden_state):\n",
        "    attn_outputs = scaled_dot_product_attention(self.q(hidden_state), self.k(hidden_state), self.v(hidden_state))\n",
        "    return attn_outputs"
      ],
      "metadata": {
        "id": "tvgd86c18y7D"
      },
      "execution_count": 12,
      "outputs": []
    },
    {
      "cell_type": "code",
      "source": [
        "class MultiHeadAttention(nn.Module):\n",
        "\n",
        "  # pass base config from model pretrained\n",
        "  def __init__(self,config):\n",
        "    super().__init__()\n",
        "    embed_dim = config.hidden_size\n",
        "    num_heads = config.num_attention_heads\n",
        "    head_dim = embed_dim // num_heads\n",
        "\n",
        "    # every head after applying scaled dot product\n",
        "    self.heads = nn.ModuleList(\n",
        "        [AttentionHead(embed_dim, head_dim) for _ in range(num_heads)]\n",
        "    )\n",
        "    self.output_linear = nn.Linear(embed_dim,embed_dim)\n",
        "\n",
        "  def forward(self, hidden_state):\n",
        "    x = torch.cat([h(hidden_state) for h in self.heads], dim=-1)\n",
        "    x = self.output_linear(x)\n",
        "    return x"
      ],
      "metadata": {
        "id": "dScj5DbN8zK-"
      },
      "execution_count": 13,
      "outputs": []
    },
    {
      "cell_type": "code",
      "source": [
        "# testing\n",
        "# config from Bert\n",
        "multihead_attn = MultiHeadAttention(config)\n",
        "attn_output = multihead_attn(inputs_embeds)\n",
        "attn_output.size()"
      ],
      "metadata": {
        "colab": {
          "base_uri": "https://localhost:8080/"
        },
        "id": "Xt-Mn4QiWTNN",
        "outputId": "d6dfbe08-26fb-49ad-8e50-9c787c3e6f6d"
      },
      "execution_count": 14,
      "outputs": [
        {
          "output_type": "execute_result",
          "data": {
            "text/plain": [
              "torch.Size([1, 5, 768])"
            ]
          },
          "metadata": {},
          "execution_count": 14
        }
      ]
    },
    {
      "cell_type": "code",
      "source": [
        "class FeedForward(nn.Module):\n",
        "  def __init__(self, config):\n",
        "    super().__init__()\n",
        "    self.linear_1 = nn.Linear(config.hidden_size, config.intermediate_size)\n",
        "    self.linear_2 = nn.Linear(config.intermediate_size, config.hidden_size)\n",
        "    self.gelu = nn.GELU()\n",
        "    self.dropout = nn.Dropout(config.hidden_dropout_prob)\n",
        "\n",
        "  def forward(self,x):\n",
        "    x = self.linear_1(x)\n",
        "    x = self.gelu(x)\n",
        "    x = self.linear_2(x)\n",
        "    x = self.dropout(x)\n",
        "    return x"
      ],
      "metadata": {
        "id": "7Ni9SCfsqsY9"
      },
      "execution_count": 15,
      "outputs": []
    },
    {
      "cell_type": "code",
      "source": [
        "feed_forward = FeedForward(config)\n",
        "ff_outputs = feed_forward(attn_outputs)\n",
        "ff_outputs.size()"
      ],
      "metadata": {
        "colab": {
          "base_uri": "https://localhost:8080/"
        },
        "id": "_zndPvNhrk7m",
        "outputId": "6c62e961-4642-48e8-f0f4-42898518144c"
      },
      "execution_count": 16,
      "outputs": [
        {
          "output_type": "execute_result",
          "data": {
            "text/plain": [
              "torch.Size([1, 5, 768])"
            ]
          },
          "metadata": {},
          "execution_count": 16
        }
      ]
    },
    {
      "cell_type": "markdown",
      "source": [
        "![image.png](data:image/png;base64,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)"
      ],
      "metadata": {
        "id": "ga8mM7z402Ka"
      }
    },
    {
      "cell_type": "code",
      "source": [
        "class TransformerEncoderLayer(nn.Module):\n",
        "  def __init__(self, config):\n",
        "    super().__init__()\n",
        "    self.layer_norm_1 = nn.LayerNorm(config.hidden_size)\n",
        "    self.layer_norm_2 = nn.LayerNorm(config.hidden_size)\n",
        "    self.attention = MultiHeadAttention(config)\n",
        "    self.feed_forward = FeedForward(config)\n",
        "\n",
        "  def forward(self,x):\n",
        "    # apply layer normalization and then copy input into query, key, value\n",
        "    hidden_state = self.layer_norm_1(x)\n",
        "    # apply attention with a skip connection\n",
        "    x = x + self.attention(hidden_state)\n",
        "    # apply feed_forward layer with a skip conncetion\n",
        "    x = x + self.feed_forward(self.layer_norm_2(x))\n",
        "    return x"
      ],
      "metadata": {
        "id": "8hbPXxYQr2Cd"
      },
      "execution_count": 17,
      "outputs": []
    },
    {
      "cell_type": "code",
      "source": [
        "encoder_layer = TransformerEncoderLayer(config)\n",
        "inputs_embeds.shape, encoder_layer(inputs_embeds).size()"
      ],
      "metadata": {
        "colab": {
          "base_uri": "https://localhost:8080/"
        },
        "id": "DYVG9iMX1N3o",
        "outputId": "e10613fa-c063-47a3-ba53-a290903c6852"
      },
      "execution_count": 18,
      "outputs": [
        {
          "output_type": "execute_result",
          "data": {
            "text/plain": [
              "(torch.Size([1, 5, 768]), torch.Size([1, 5, 768]))"
            ]
          },
          "metadata": {},
          "execution_count": 18
        }
      ]
    },
    {
      "cell_type": "code",
      "source": [
        "config.max_position_embeddings"
      ],
      "metadata": {
        "colab": {
          "base_uri": "https://localhost:8080/"
        },
        "id": "4RiAjnNY1oOK",
        "outputId": "fde1292d-3f93-41d4-f5b8-a667befa62a0"
      },
      "execution_count": 19,
      "outputs": [
        {
          "output_type": "execute_result",
          "data": {
            "text/plain": [
              "512"
            ]
          },
          "metadata": {},
          "execution_count": 19
        }
      ]
    },
    {
      "cell_type": "code",
      "source": [
        "torch.arange(5,dtype=torch.long)"
      ],
      "metadata": {
        "colab": {
          "base_uri": "https://localhost:8080/"
        },
        "id": "JNlpsSeW8Eaw",
        "outputId": "f8f2d4d7-a6ce-4b36-9f5a-88ed120ed06a"
      },
      "execution_count": 20,
      "outputs": [
        {
          "output_type": "execute_result",
          "data": {
            "text/plain": [
              "tensor([0, 1, 2, 3, 4])"
            ]
          },
          "metadata": {},
          "execution_count": 20
        }
      ]
    },
    {
      "cell_type": "code",
      "source": [
        "torch.arange(5,dtype=torch.long).unsqueeze(0)"
      ],
      "metadata": {
        "colab": {
          "base_uri": "https://localhost:8080/"
        },
        "id": "V8e27KLr9pey",
        "outputId": "02b39225-018e-4465-bce2-e01a305a7728"
      },
      "execution_count": 21,
      "outputs": [
        {
          "output_type": "execute_result",
          "data": {
            "text/plain": [
              "tensor([[0, 1, 2, 3, 4]])"
            ]
          },
          "metadata": {},
          "execution_count": 21
        }
      ]
    },
    {
      "cell_type": "code",
      "source": [
        "config.hidden_size"
      ],
      "metadata": {
        "colab": {
          "base_uri": "https://localhost:8080/"
        },
        "id": "viqLJN8l9tcT",
        "outputId": "b02e55d3-3551-448e-f0ea-942df2003cf5"
      },
      "execution_count": 22,
      "outputs": [
        {
          "output_type": "execute_result",
          "data": {
            "text/plain": [
              "768"
            ]
          },
          "metadata": {},
          "execution_count": 22
        }
      ]
    },
    {
      "cell_type": "code",
      "source": [
        "class Embeddings(nn.Module):\n",
        "  def __init__(self, config):\n",
        "    super().__init__()\n",
        "    #[30522,768]\n",
        "    self.token_embeddings = nn.Embedding(config.vocab_size, config.hidden_size)\n",
        "    #[5,768]\n",
        "    self.position_embeddings = nn.Embedding(config.max_position_embeddings, config.hidden_size)\n",
        "\n",
        "    self.layer_norm = nn.LayerNorm(config.hidden_size, eps=1e-12)\n",
        "    self.dropout = nn.Dropout()\n",
        "\n",
        "  def forward(self, input_ids):\n",
        "    # number of tokens\n",
        "    seq_length = input_ids.size(1)\n",
        "    # [0,1,...,4]\n",
        "    position_ids = torch.arange(seq_length,dtype=torch.long).unsqueeze(0)\n",
        "    token_embeddings = self.token_embeddings(input_ids)\n",
        "    position_embeddings = self.position_embeddings(position_ids)\n",
        "\n",
        "    embeddings = token_embeddings + position_embeddings\n",
        "    embeddings = self.layer_norm(embeddings)\n",
        "    embeddings = self.dropout(embeddings)\n",
        "    return embeddings\n",
        "\n",
        "embedding_layer = Embeddings(config)\n",
        "embedding_layer(inputs.input_ids).size()\n",
        "\n"
      ],
      "metadata": {
        "id": "iyOhUbrf_K7G",
        "colab": {
          "base_uri": "https://localhost:8080/"
        },
        "outputId": "dcbc8559-dacd-4d18-f8fb-868ec0f40dc2"
      },
      "execution_count": 27,
      "outputs": [
        {
          "output_type": "execute_result",
          "data": {
            "text/plain": [
              "torch.Size([1, 5, 768])"
            ]
          },
          "metadata": {},
          "execution_count": 27
        }
      ]
    },
    {
      "cell_type": "code",
      "source": [
        "config.num_hidden_layers"
      ],
      "metadata": {
        "colab": {
          "base_uri": "https://localhost:8080/"
        },
        "id": "3hbmmrkAQxsq",
        "outputId": "f77f37fb-6901-4e6d-d7ab-23c6f2dcd4da"
      },
      "execution_count": 28,
      "outputs": [
        {
          "output_type": "execute_result",
          "data": {
            "text/plain": [
              "12"
            ]
          },
          "metadata": {},
          "execution_count": 28
        }
      ]
    },
    {
      "cell_type": "code",
      "source": [
        "class TransformerEncoder(nn.Module):\n",
        "  def __init__(self, config):\n",
        "    super().__init__()\n",
        "    self.embeddings = Embeddings(config)\n",
        "    self.layers = nn.ModuleList([TransformerEncoderLayer(config) for _ in range(config.num_hidden_layers)])\n",
        "\n",
        "  def forward(self,x):\n",
        "    x = self.embeddings(x)\n",
        "    for layer in self.layers:\n",
        "      x = layer(x)\n",
        "    return x\n"
      ],
      "metadata": {
        "id": "ZlBrV9IVPngi"
      },
      "execution_count": 31,
      "outputs": []
    },
    {
      "cell_type": "code",
      "source": [
        "encoder = TransformerEncoder(config)\n",
        "encoder(inputs.input_ids).size()"
      ],
      "metadata": {
        "colab": {
          "base_uri": "https://localhost:8080/"
        },
        "id": "Nx_XJt9gQ462",
        "outputId": "fe842a14-f21d-4e09-c196-bf743d8ba81d"
      },
      "execution_count": 33,
      "outputs": [
        {
          "output_type": "execute_result",
          "data": {
            "text/plain": [
              "torch.Size([1, 5, 768])"
            ]
          },
          "metadata": {},
          "execution_count": 33
        }
      ]
    },
    {
      "cell_type": "code",
      "source": [
        "class TransformerForSequenceClassification(nn.Module):\n",
        "  def __init__(self,config):\n",
        "    super().__init__()\n",
        "    #[b,5,768]\n",
        "    self.encoder = TransformerEncoder(config)\n",
        "    self.dropout = nn.Dropout(config.hidden_dropout_prob)\n",
        "    #[768,3]\n",
        "    self.classifier = nn.Linear(config.hidden_size, config.num_labels)\n",
        "\n",
        "  def forward(self,x):\n",
        "    # first token is hidden state to use to classification [CLS]\n",
        "    x = self.encoder(x)[:,0,:]\n",
        "    x = self.dropout(x)\n",
        "    x = self.classifier(x)\n",
        "    return x\n",
        "\n",
        "config.num_labels = 3\n",
        "encoder_classifier = TransformerForSequenceClassification(config)\n",
        "res_enc = encoder_classifier(inputs.input_ids)\n",
        "res_enc.size()\n"
      ],
      "metadata": {
        "colab": {
          "base_uri": "https://localhost:8080/"
        },
        "id": "aFlbBXk3RBfy",
        "outputId": "498ef46f-82a6-4920-dc94-a7605a6c315c"
      },
      "execution_count": 35,
      "outputs": [
        {
          "output_type": "execute_result",
          "data": {
            "text/plain": [
              "torch.Size([1, 3])"
            ]
          },
          "metadata": {},
          "execution_count": 35
        }
      ]
    },
    {
      "cell_type": "code",
      "source": [
        "# 3 classes to assign a label a entire sequence of 5 tokens\n",
        "res_enc"
      ],
      "metadata": {
        "colab": {
          "base_uri": "https://localhost:8080/"
        },
        "id": "gXXxG_40T4o8",
        "outputId": "ddc13923-dad4-4ac6-ec73-865852da6656"
      },
      "execution_count": 36,
      "outputs": [
        {
          "output_type": "execute_result",
          "data": {
            "text/plain": [
              "tensor([[ 0.9469,  0.3969, -0.5217]], grad_fn=<AddmmBackward0>)"
            ]
          },
          "metadata": {},
          "execution_count": 36
        }
      ]
    },
    {
      "cell_type": "code",
      "source": [],
      "metadata": {
        "id": "d0UzBio3UFKg"
      },
      "execution_count": null,
      "outputs": []
    }
  ]
}